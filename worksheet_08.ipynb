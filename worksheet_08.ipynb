{
 "cells": [
  {
   "cell_type": "markdown",
   "metadata": {},
   "source": [
    "# Worksheet 08\n",
    "\n",
    "Name: Sinforiano Terada \n",
    "UID: U80138659\n",
    "\n",
    "### Topics\n",
    "\n",
    "- Soft Clustering\n",
    "- Clustering Aggregation\n",
    "\n",
    "### Probability Review\n",
    "\n",
    "Read through [the following](https://medium.com/@gallettilance/overview-of-probability-3272b72c82c8)\n",
    "\n",
    "### Soft Clustering\n",
    "\n",
    "We generate 10 data points that come from a normal distribution with mean 5 and variance 1."
   ]
  },
  {
   "cell_type": "code",
   "execution_count": 1,
   "metadata": {},
   "outputs": [
    {
     "name": "stdout",
     "output_type": "stream",
     "text": [
      "[4.423976666576214, 4.750607593765246, 3.7774956891358795, 4.744868572674481, 5.341023201986534, 5.7087868173208145, 4.816756819173796, 5.012094482602794, 5.216634993231939, 4.409066069878011]\n"
     ]
    }
   ],
   "source": [
    "import random\n",
    "import numpy as np\n",
    "from sklearn.cluster import KMeans\n",
    "\n",
    "mean = 5\n",
    "stdev = 1\n",
    "\n",
    "s1 = np.random.normal(mean, stdev, 10).tolist()\n",
    "print(s1)"
   ]
  },
  {
   "cell_type": "markdown",
   "metadata": {},
   "source": [
    "a) Generate 10 more data points, this time coming from a normal distribution with mean 8 and variance 1."
   ]
  },
  {
   "cell_type": "code",
   "execution_count": 2,
   "metadata": {},
   "outputs": [
    {
     "name": "stdout",
     "output_type": "stream",
     "text": [
      "[6.692668920181799, 7.419539618791397, 7.422792953709893, 7.433501228512353, 6.023817121447956, 9.852732215480525, 8.165686222294246, 10.40646102680033, 7.974284392517058, 6.989983245332715]\n"
     ]
    }
   ],
   "source": [
    "s2 = np.random.normal(8, 1, 10).tolist()\n",
    "print(s2)"
   ]
  },
  {
   "cell_type": "markdown",
   "metadata": {},
   "source": [
    "b) Flip a fair coin 10 times. If the coin lands on H, then pick the last data point of `c1` and remove it from `c1`, if T then pick the last data point from `c2` and remove it from `c2`. Add these 10 points to a list called `data`."
   ]
  },
  {
   "cell_type": "code",
   "execution_count": 3,
   "metadata": {},
   "outputs": [
    {
     "name": "stdout",
     "output_type": "stream",
     "text": [
      "[4.409066069878011, 6.989983245332715, 7.974284392517058, 10.40646102680033, 8.165686222294246, 5.216634993231939, 9.852732215480525, 6.023817121447956, 7.433501228512353, 7.422792953709893]\n"
     ]
    }
   ],
   "source": [
    "data = []\n",
    "for i in range(10):\n",
    "    # flip coin\n",
    "    coin_output = random.choice([0, 1])\n",
    "    if coin_output == 0:\n",
    "        p1 = s1.pop()\n",
    "        data.append(p1)\n",
    "    else:\n",
    "        p2 = s2.pop()\n",
    "        data.append(p2)\n",
    "print(data)"
   ]
  },
  {
   "cell_type": "markdown",
   "metadata": {},
   "source": [
    "c) This `data` is a Gaussian Mixture Distribution with 2 mixture components. Over the next few questions we will walk through the GMM algorithm to see if we can uncover the parameters we used to generate this data. First, please list all these parameters of the GMM that created `data` and the values we know they have."
   ]
  },
  {
   "cell_type": "markdown",
   "metadata": {},
   "source": [
    "The parameters of the GMM are the mean and standard deviation for the two distributions as well as the probability that they landed in data."
   ]
  },
  {
   "cell_type": "markdown",
   "metadata": {},
   "source": [
    "d) Let's assume there are two mixture components (note: we could plot the data and make the observation that there are two clusters). The EM algorithm asks us to start with a random `mean_j`, `variance_j`, `P(S_j)` for each component j. One method we could use to find sensible values for these is to apply K means with k=2 here.\n",
    "\n",
    "1. the centroids would be the estimates of the `mean_j`\n",
    "2. the intra-cluster variance could be the estimate of `variance_j`\n",
    "3. the proportion of points in each cluster could be the estimate of `P(S_j)`\n",
    "\n",
    "Go through this process and list the parameter estimates it gives. Are they close or far from the true values?"
   ]
  },
  {
   "cell_type": "code",
   "execution_count": 4,
   "metadata": {},
   "outputs": [
    {
     "name": "stdout",
     "output_type": "stream",
     "text": [
      "[6.989983245332715, 7.974284392517058, 10.40646102680033, 8.165686222294246, 9.852732215480525, 7.433501228512353, 7.422792953709893]\n",
      "[4.409066069878011, 5.216634993231939, 6.023817121447956]\n",
      "P(S_1) = 0.7,  P(S_2) = 0.3\n",
      "mean_1 = 8.32077732637816,  mean_2 = 5.2165060615193015\n",
      "var_1 = 1.4579600825398544,  var_2 = 0.43457016806940035\n"
     ]
    }
   ],
   "source": [
    "kmeans = KMeans(2, init='k-means++').fit(X=np.array(data).reshape(-1, 1))\n",
    "\n",
    "s1 = [x[0] for x in filter(lambda x: x[1] == 0, zip(data, kmeans.labels_))]\n",
    "print(s1)\n",
    "s2 = [x[0] for x in filter(lambda x: x[1] != 0, zip(data, kmeans.labels_))]\n",
    "print(s2)\n",
    "\n",
    "prob_s = [ len(s1) / (len(s1) + len(s2)) , len(s2) /(len(s2) + len(s1)) ]\n",
    "mean = [ sum(s1)/len(s1) , sum(s2)/len(s2) ]\n",
    "var = [ sum(map(lambda x : (x - mean[0])**2, s1)) / len(s1) , sum(map(lambda x : (x - mean[1])**2, s2)) / len(s2) ]\n",
    "\n",
    "print(\"P(S_1) = \" + str(prob_s[0]) + \",  P(S_2) = \" + str(prob_s[1]))\n",
    "print(\"mean_1 = \" + str(mean[0]) + \",  mean_2 = \" + str(mean[1]))\n",
    "print(\"var_1 = \" + str(var[0]) + \",  var_2 = \" + str(var[1]))"
   ]
  },
  {
   "cell_type": "markdown",
   "metadata": {},
   "source": [
    "I think that they're pretty similar since all we're doing is computing the mean, variance, and probability of points coming from the individual data sets. I think our results for the next part will be different though because this isn't necessarily the correct method"
   ]
  },
  {
   "cell_type": "markdown",
   "metadata": {},
   "source": [
    "e) For each data point, compute `P(S_j | X_i)`. Comment on which cluster you think each point belongs to based on the estimated probabilities. How does that compare to the truth?"
   ]
  },
  {
   "cell_type": "code",
   "execution_count": 6,
   "metadata": {},
   "outputs": [
    {
     "name": "stdout",
     "output_type": "stream",
     "text": [
      "point =  4.409066069878011\n",
      "probability of observing that point if it came from cluster 0 =  0.007482193341313717\n",
      "probability of observing that point if it came from cluster 1 =  0.16338277314381863\n",
      "point =  6.989983245332715\n",
      "probability of observing that point if it came from cluster 0 =  0.18040359429020447\n",
      "probability of observing that point if it came from cluster 1 =  0.00022201031940165023\n",
      "point =  7.974284392517058\n",
      "probability of observing that point if it came from cluster 0 =  0.2660111720568522\n",
      "probability of observing that point if it came from cluster 1 =  1.6518979877380012e-09\n",
      "point =  10.40646102680033\n",
      "probability of observing that point if it came from cluster 0 =  0.09835101987192806\n",
      "probability of observing that point if it came from cluster 1 =  9.803709965745126e-32\n",
      "point =  8.165686222294246\n",
      "probability of observing that point if it came from cluster 0 =  0.2720866622285645\n",
      "probability of observing that point if it came from cluster 1 =  9.16211606565729e-11\n",
      "point =  5.216634993231939\n",
      "probability of observing that point if it came from cluster 0 =  0.028367547118762413\n",
      "probability of observing that point if it came from cluster 1 =  0.9180157593779703\n",
      "point =  9.852732215480525\n",
      "probability of observing that point if it came from cluster 0 =  0.15754928152684086\n",
      "probability of observing that point if it came from cluster 1 =  1.7687782831237816e-25\n",
      "point =  6.023817121447956\n",
      "probability of observing that point if it came from cluster 0 =  0.0791020489093321\n",
      "probability of observing that point if it came from cluster 1 =  0.16347285586027588\n",
      "point =  7.433501228512353\n",
      "probability of observing that point if it came from cluster 0 =  0.22737429661974473\n",
      "probability of observing that point if it came from cluster 1 =  2.0480795398259307e-06\n",
      "point =  7.422792953709893\n",
      "probability of observing that point if it came from cluster 0 =  0.2263541440943614\n",
      "probability of observing that point if it came from cluster 1 =  2.321717914852436e-06\n",
      "4.409066069878011\n",
      "Probability of coming from S_1 = 0.09654021752984467\n",
      "Probability of coming from S_2 = 0.9034597824701553\n",
      "\n",
      "6.989983245332715\n",
      "Probability of coming from S_1 = 0.9994728645811268\n",
      "Probability of coming from S_2 = 0.0005271354188732241\n",
      "\n",
      "7.974284392517058\n",
      "Probability of coming from S_1 = 0.999999997338622\n",
      "Probability of coming from S_2 = 2.6613779906345395e-09\n",
      "\n",
      "10.40646102680033\n",
      "Probability of coming from S_1 = 1.0\n",
      "Probability of coming from S_2 = 4.272034993425201e-31\n",
      "\n",
      "8.165686222294246\n",
      "Probability of coming from S_1 = 0.9999999998556849\n",
      "Probability of coming from S_2 = 1.4431509204706186e-10\n",
      "\n",
      "5.216634993231939\n",
      "Probability of coming from S_1 = 0.06725309134610624\n",
      "Probability of coming from S_2 = 0.9327469086538936\n",
      "\n",
      "9.852732215480525\n",
      "Probability of coming from S_1 = 1.0\n",
      "Probability of coming from S_2 = 4.811496620473849e-25\n",
      "\n",
      "6.023817121447956\n",
      "Probability of coming from S_1 = 0.5303102096397676\n",
      "Probability of coming from S_2 = 0.4696897903602323\n",
      "\n",
      "7.433501228512353\n",
      "Probability of coming from S_1 = 0.9999961396472739\n",
      "Probability of coming from S_2 = 3.860352726063419e-06\n",
      "\n",
      "7.422792953709893\n",
      "Probability of coming from S_1 = 0.9999956041556317\n",
      "Probability of coming from S_2 = 4.395844368246663e-06\n",
      "\n"
     ]
    }
   ],
   "source": [
    "from scipy.stats import norm\n",
    "\n",
    "prob_s0_x = [] # P(S_0 | X_i)\n",
    "prob_s1_x = [] # P(S_1 | X_i)\n",
    "prob_x = [] # P(X_i)\n",
    "\n",
    "k = 2\n",
    "\n",
    "for p in data:\n",
    "    print(\"point = \", p)\n",
    "    pdf_i = []\n",
    "\n",
    "    for j in range(k):\n",
    "        # P(X_i | S_j)\n",
    "        pdf_i.append(norm.pdf(p, mean[j], var[j]))\n",
    "        print(\"probability of observing that point if it came from cluster \" + str(j) + \" = \", pdf_i[j])\n",
    "        # P(S_j) already computed\n",
    "        prob_s[j]\n",
    "\n",
    "    # P(X_i) = P(S_0)P(X_i | S_0) + P(S_1)P(X_i | S_1)\n",
    "    prob_x = prob_s[0] * pdf_i[0] + prob_s[1] * pdf_i[1]\n",
    "\n",
    "    # P(S_j | X_i) = P(X_i | S_j)P(S_j) / P(X_i)\n",
    "    prob_s0_x.append(pdf_i[0] * prob_s[0] / prob_x)\n",
    "    prob_s1_x.append(pdf_i[1] * prob_s[1] / prob_x)\n",
    "\n",
    "probs = zip(data, prob_s0_x, prob_s1_x)\n",
    "for p in probs:\n",
    "    print(p[0])\n",
    "    print(\"Probability of coming from S_1 = \" + str(p[1]))\n",
    "    print(\"Probability of coming from S_2 = \" + str(p[2]))\n",
    "    print()\n"
   ]
  },
  {
   "cell_type": "markdown",
   "metadata": {},
   "source": [
    "f) Having computed `P(S_j | X_i)`, update the estimates of `mean_j`, `var_j`, and `P(S_j)`. How different are these values from the original ones you got from K means? briefly comment."
   ]
  },
  {
   "cell_type": "code",
   "execution_count": 9,
   "metadata": {},
   "outputs": [
    {
     "name": "stdout",
     "output_type": "stream",
     "text": [
      "P(S_1) = 0.7,  P(S_2) = 0.3\n",
      "mean_1 = 8.086322628638822,  mean_2 = 5.06509018298242\n",
      "var_1 = 1.9113423355909416,  var_2 = 0.3659155291730864\n"
     ]
    }
   ],
   "source": [
    "prob_c = [sum(prob_s0_x)/ len(prob_s0_x), sum(prob_s1_x)/ len(prob_s1_x) ]\n",
    "mean = [sum([x[0] * x[1] for x in zip(prob_s0_x, data)]) / sum(prob_s0_x), sum([x[0] * x[1] for x in zip(prob_s1_x, data)]) / sum(prob_s1_x) ]\n",
    "var = [sum([(p * (x - mean[0])**2) for p, x in zip(prob_s0_x, data)]) / sum(prob_s0_x) , sum([(p * (x - mean[1])**2) for p, x in zip(prob_s1_x, data)]) / sum(prob_s1_x)]\n",
    "\n",
    "print(\"P(S_1) = \" + str(prob_s[0]) + \",  P(S_2) = \" + str(prob_s[1]))\n",
    "print(\"mean_1 = \" + str(mean[0]) + \",  mean_2 = \" + str(mean[1]))\n",
    "print(\"var_1 = \" + str(var[0]) + \",  var_2 = \" + str(var[1]))"
   ]
  },
  {
   "cell_type": "markdown",
   "metadata": {},
   "source": [
    "The P and the means are quite similar, but there is a more notable difference in the variances."
   ]
  },
  {
   "cell_type": "markdown",
   "metadata": {},
   "source": [
    "g) Update `P(S_j | X_i)`. Comment on any differences or lack thereof you observe."
   ]
  },
  {
   "cell_type": "code",
   "execution_count": 10,
   "metadata": {},
   "outputs": [
    {
     "name": "stdout",
     "output_type": "stream",
     "text": [
      "point =  4.409066069878011\n",
      "probability of observing that point if it came from cluster 0 =  0.03279546186836836\n",
      "probability of observing that point if it came from cluster 1 =  0.21855788751512423\n",
      "point =  6.989983245332715\n",
      "probability of observing that point if it came from cluster 0 =  0.17706279644869374\n",
      "probability of observing that point if it came from cluster 1 =  1.067772678172146e-06\n",
      "point =  7.974284392517058\n",
      "probability of observing that point if it came from cluster 0 =  0.2083653329677998\n",
      "probability of observing that point if it came from cluster 1 =  2.0498246189678618e-14\n",
      "point =  10.40646102680033\n",
      "probability of observing that point if it came from cluster 0 =  0.0999090024286014\n",
      "probability of observing that point if it came from cluster 1 =  5.857046792879087e-47\n",
      "point =  8.165686222294246\n",
      "probability of observing that point if it came from cluster 0 =  0.20854376027467833\n",
      "probability of observing that point if it came from cluster 1 =  2.793860788274018e-16\n",
      "point =  5.216634993231939\n",
      "probability of observing that point if it came from cluster 0 =  0.06762051068715917\n",
      "probability of observing that point if it came from cluster 1 =  1.0006533240250297\n",
      "point =  9.852732215480525\n",
      "probability of observing that point if it came from cluster 0 =  0.1361781239714115\n",
      "probability of observing that point if it came from cluster 1 =  7.308248198217319e-38\n",
      "point =  6.023817121447956\n",
      "probability of observing that point if it came from cluster 0 =  0.11660546073292424\n",
      "probability of observing that point if it came from cluster 1 =  0.03522539324809933\n",
      "point =  7.433501228512353\n",
      "probability of observing that point if it came from cluster 0 =  0.19689730972493052\n",
      "probability of observing that point if it came from cluster 1 =  8.716641721759959e-10\n",
      "point =  7.422792953709893\n",
      "probability of observing that point if it came from cluster 0 =  0.19651781546773756\n",
      "probability of observing that point if it came from cluster 1 =  1.0529923623497691e-09\n",
      "4.409066069878011\n",
      "Probability of coming from S_1 = 0.25932825164896917\n",
      "Probability of coming from S_2 = 0.7406717483510308\n",
      "\n",
      "6.989983245332715\n",
      "Probability of coming from S_1 = 0.9999974155176098\n",
      "Probability of coming from S_2 = 2.5844823901426156e-06\n",
      "\n",
      "7.974284392517058\n",
      "Probability of coming from S_1 = 0.9999999999999577\n",
      "Probability of coming from S_2 = 4.216134482446099e-14\n",
      "\n",
      "10.40646102680033\n",
      "Probability of coming from S_1 = 1.0\n",
      "Probability of coming from S_2 = 2.5124491789693803e-46\n",
      "\n",
      "8.165686222294246\n",
      "Probability of coming from S_1 = 0.9999999999999994\n",
      "Probability of coming from S_2 = 5.741571494074948e-16\n",
      "\n",
      "5.216634993231939\n",
      "Probability of coming from S_1 = 0.13620208088998614\n",
      "Probability of coming from S_2 = 0.8637979191100138\n",
      "\n",
      "9.852732215480525\n",
      "Probability of coming from S_1 = 1.0\n",
      "Probability of coming from S_2 = 2.3000069903460435e-37\n",
      "\n",
      "6.023817121447956\n",
      "Probability of coming from S_1 = 0.8853731114455761\n",
      "Probability of coming from S_2 = 0.11462688855442388\n",
      "\n",
      "7.433501228512353\n",
      "Probability of coming from S_1 = 0.9999999981027149\n",
      "Probability of coming from S_2 = 1.897285236233619e-09\n",
      "\n",
      "7.422792953709893\n",
      "Probability of coming from S_1 = 0.9999999977036056\n",
      "Probability of coming from S_2 = 2.2963945477238868e-09\n",
      "\n"
     ]
    }
   ],
   "source": [
    "prob_s0_x = [] # P(S_0 | X_i)\n",
    "prob_s1_x = [] # P(S_1 | X_i)\n",
    "prob_x = [] # P(X_i)\n",
    "\n",
    "k = 2\n",
    "\n",
    "for p in data:\n",
    "    print(\"point = \", p)\n",
    "    pdf_i = []\n",
    "\n",
    "    for j in range(k):\n",
    "        # P(X_i | S_j)\n",
    "        pdf_i.append(norm.pdf(p, mean[j], var[j]))\n",
    "        print(\"probability of observing that point if it came from cluster \" + str(j) + \" = \", pdf_i[j])\n",
    "        # P(S_j) already computed\n",
    "        prob_s[j]\n",
    "\n",
    "    # P(X_i) = P(S_0)P(X_i | S_0) + P(S_1)P(X_i | S_1)\n",
    "    prob_x = prob_s[0] * pdf_i[0] + prob_s[1] * pdf_i[1]\n",
    "\n",
    "    # P(S_j | X_i) = P(X_i | S_j)P(S_j) / P(X_i)\n",
    "    prob_s0_x.append(pdf_i[0] * prob_s[0] / prob_x )\n",
    "    prob_s1_x.append(pdf_i[1] * prob_s[1] / prob_x )\n",
    "\n",
    "probs = zip(data, prob_s0_x, prob_s1_x)\n",
    "for p in probs:\n",
    "    print(p[0])\n",
    "    print(\"Probability of coming from S_1 = \" + str(p[1]))\n",
    "    print(\"Probability of coming from S_2 = \" + str(p[2]))\n",
    "    print()"
   ]
  },
  {
   "cell_type": "markdown",
   "metadata": {},
   "source": [
    "I think that these values make a lot more sense. Some of the probabilities in the KMeans section didn't really make sense, but I think that the probabilities shown here are closer to what I would estimate with the eye test."
   ]
  },
  {
   "cell_type": "markdown",
   "metadata": {},
   "source": [
    "h) Use `P(S_j | X_i)` to create a hard assignment - label each point as belonging to a specific cluster (0 or 1)"
   ]
  },
  {
   "cell_type": "code",
   "execution_count": 8,
   "metadata": {},
   "outputs": [
    {
     "name": "stdout",
     "output_type": "stream",
     "text": [
      "points in cluster 0 : [6.989983245332715, 7.974284392517058, 10.40646102680033, 8.165686222294246, 9.852732215480525, 7.433501228512353, 7.422792953709893]\n",
      "points in cluster 1 : [4.409066069878011, 5.216634993231939, 6.023817121447956]\n"
     ]
    }
   ],
   "source": [
    "assignments = [[], []]\n",
    "for x in zip(data, prob_s0_x):\n",
    "    p = x[1]\n",
    "    d = x[0]\n",
    "    if random.random() <= p:\n",
    "        assignments[0].append(d)\n",
    "    else:\n",
    "        assignments[1].append(d)\n",
    "print(f\"points in cluster 0 : {assignments[0]}\\npoints in cluster 1 : {assignments[1]}\")"
   ]
  },
  {
   "cell_type": "code",
   "execution_count": null,
   "metadata": {},
   "outputs": [],
   "source": []
  }
 ],
 "metadata": {
  "kernelspec": {
   "display_name": "Python 3 (ipykernel)",
   "language": "python",
   "name": "python3"
  },
  "language_info": {
   "codemirror_mode": {
    "name": "ipython",
    "version": 3
   },
   "file_extension": ".py",
   "mimetype": "text/x-python",
   "name": "python",
   "nbconvert_exporter": "python",
   "pygments_lexer": "ipython3",
   "version": "3.9.13"
  },
  "vscode": {
   "interpreter": {
    "hash": "e7370f93d1d0cde622a1f8e1c04877d8463912d04d973331ad4851f04de6915a"
   }
  }
 },
 "nbformat": 4,
 "nbformat_minor": 2
}
