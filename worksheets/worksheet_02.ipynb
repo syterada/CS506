{
 "cells": [
  {
   "attachments": {},
   "cell_type": "markdown",
   "metadata": {},
   "source": [
    "# Worksheet 02\n",
    "\n",
    "Name: Sinforiano Terada  \n",
    "UID: U80138659 \n",
    "\n",
    "### Topics\n",
    "\n",
    "- Effective Programming\n",
    "\n",
    "### Effective Programming\n",
    "\n",
    "a) What is a drawback of the top down approach?"
   ]
  },
  {
   "cell_type": "markdown",
   "metadata": {},
   "source": [
    "You don't really have runable code until the end so it can be hard to figure out where the bugs are"
   ]
  },
  {
   "cell_type": "markdown",
   "metadata": {},
   "source": [
    "b) What is a drawback of the bottom up approach?"
   ]
  },
  {
   "cell_type": "markdown",
   "metadata": {},
   "source": [
    "A drawback of the bottom up approach is that it takes a lot of organization up front since you build everything up at the beginning."
   ]
  },
  {
   "cell_type": "markdown",
   "metadata": {},
   "source": [
    "c) What are 3 things you can do to have a better debugging experience?"
   ]
  },
  {
   "cell_type": "markdown",
   "metadata": {},
   "source": [
    "1 - read what the error is telling you\n",
    "\n",
    "2 - reread the code and try to trace through what is happening with the error\n",
    "\n",
    "3 - look online for help"
   ]
  },
  {
   "attachments": {},
   "cell_type": "markdown",
   "metadata": {},
   "source": [
    "d) Follow along with the live coding. You can write your code here:"
   ]
  },
  {
   "cell_type": "code",
   "execution_count": 6,
   "metadata": {},
   "outputs": [
    {
     "name": "stdout",
     "output_type": "stream",
     "text": [
      "Q _ _ _ _ _ _ _ \n",
      "_ _ _ _ Q _ _ _ \n",
      "_ _ _ _ _ _ _ Q \n",
      "_ _ _ _ _ Q _ _ \n",
      "_ _ Q _ _ _ _ _ \n",
      "_ _ _ _ _ _ Q _ \n",
      "_ Q _ _ _ _ _ _ \n",
      "_ _ _ Q _ _ _ _ \n",
      "\n"
     ]
    }
   ],
   "source": [
    "class Board:\n",
    "\n",
    "    def __init__(self):\n",
    "        self.board = [['_' for i in range(8)] for j in range(8)]\n",
    "\n",
    "    def __repr__(self):\n",
    "        res = \"\"\n",
    "        for row in self.board:\n",
    "            for col in row:\n",
    "                res += col\n",
    "                res += \" \"\n",
    "            res += '\\n'\n",
    "\n",
    "        return res\n",
    "    \n",
    "    def row_legal(self,row):\n",
    "        for i in range(len(self.board)):\n",
    "            if self.board[row][i] == 'Q':\n",
    "                return False\n",
    "        return True\n",
    "    \n",
    "    def col_legal(self,col):\n",
    "        for i in range(len(self.board)):\n",
    "            if self.board[i][col] == 'Q':\n",
    "                return False\n",
    "        return True\n",
    "    \n",
    "    def is_in_board(self, row,col):\n",
    "        return row >=0 and row < 8 and col >= 0 and col < 8\n",
    "    \n",
    "    def diag_legal(self,row,col):\n",
    "        for i in range(len(self.board)):\n",
    "            if self.is_in_board(row-i,col-i) and self.board[row-i][col-i] == 'Q':\n",
    "                return False\n",
    "            if self.is_in_board(row+i,col-i) and self.board[row+i][col-i] == 'Q':\n",
    "                return False\n",
    "            if self.is_in_board(row-i,col+i) and self.board[row-i][col+i] == 'Q':\n",
    "                return False\n",
    "            if self.is_in_board(row+i,col+i) and self.board[row+i][col+i] == 'Q':\n",
    "                return False\n",
    "        return True\n",
    "\n",
    "\n",
    "    \n",
    "    def is_legal(self,row,col):\n",
    "        if not self.row_legal(row):\n",
    "            return False\n",
    "        elif not self.col_legal(col):\n",
    "            return False\n",
    "        elif not self.diag_legal(row,col):\n",
    "            return False\n",
    "        else:\n",
    "            return True\n",
    "    \n",
    "    def set_queen(self,row,col):\n",
    "        self.board[row][col] = 'Q'\n",
    "\n",
    "    def get_last_queen(self,row):\n",
    "        for col in range(len(self.board[row])):\n",
    "            if self.board[row][col] == 'Q':\n",
    "                return col\n",
    "\n",
    "    def unset_queen(self, row):\n",
    "        self.board[row] = ['_' for i in range(8)] \n",
    "    \n",
    "    \n",
    "    def search(self):\n",
    "        row = 0\n",
    "        col = 0\n",
    "        \n",
    "        while row >=0:\n",
    "            if row < 8:\n",
    "                if self.is_legal(row,col):\n",
    "                    self.set_queen(row, col)\n",
    "                    row += 1\n",
    "                    col = 0\n",
    "                else:\n",
    "                    col += 1\n",
    "                    while col > 7:\n",
    "                        col = self.get_last_queen(row -1) + 1\n",
    "                        self.unset_queen(row - 1)\n",
    "                        row -= 1\n",
    "            else:\n",
    "                print('found a solution')        \n",
    "                print(self)\n",
    "board = Board()\n",
    "board.search()"
   ]
  }
 ],
 "metadata": {
  "kernelspec": {
   "display_name": "Python 3",
   "language": "python",
   "name": "python3"
  },
  "language_info": {
   "codemirror_mode": {
    "name": "ipython",
    "version": 3
   },
   "file_extension": ".py",
   "mimetype": "text/x-python",
   "name": "python",
   "nbconvert_exporter": "python",
   "pygments_lexer": "ipython3",
   "version": "3.10.11"
  },
  "orig_nbformat": 4,
  "vscode": {
   "interpreter": {
    "hash": "76ca05dc3ea24b2e3b98cdb7774adfbb40773424bf5109b477fd793f623715af"
   }
  }
 },
 "nbformat": 4,
 "nbformat_minor": 2
}
